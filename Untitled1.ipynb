{
  "nbformat": 4,
  "nbformat_minor": 0,
  "metadata": {
    "colab": {
      "provenance": []
    },
    "kernelspec": {
      "name": "python3",
      "display_name": "Python 3"
    },
    "language_info": {
      "name": "python"
    }
  },
  "cells": [
    {
      "cell_type": "markdown",
      "source": [
        "1. Difference between a function and a method in Python\n",
        "\n",
        "ans-Function: A block of reusable code defined using def, independent of any object.\n",
        "\n",
        "Method: A function that is associated with an object (e.g., list.append()). It always takes the instance (self) as the first parameter.\n",
        "\n",
        "2.  Explain the concept of function arguments and parameters in Python.\n",
        "\n",
        "ans-Parameters: Variables listed inside the function definition.\n",
        "\n",
        "Arguments: Actual values passed to the function when it is called.\n",
        "\n",
        "Example:\n",
        "\n",
        "def greet(name):   # 'name' is a parameter\n",
        "    print(\"Hello\", name)\n",
        "\n",
        "greet(\"Alice\")     # \"Alice\" is an argument\n",
        "\n",
        "\n",
        "3.What are the different ways to define and call a function in Python?\n",
        "\n",
        "ans-Normal function:\n",
        "\n",
        "def add(a, b):\n",
        "    return a + b\n",
        "print(add(3, 5))\n",
        "\n",
        "\n",
        "Lambda function:\n",
        "\n",
        "f = lambda x, y: x + y\n",
        "print(f(3, 5))\n",
        "\n",
        "\n",
        "Built-in function: Like len([1,2,3]).\n",
        "\n",
        "4-What is the purpose of the `return` statement in a Python function?\n",
        "\n",
        "ans-It allows a function to send back a value to the caller. Without return, the function returns None by default.\n",
        "\n",
        "5.What are iterators in Python and how do they differ from iterables?\n",
        "\n",
        "ans-Iterable: Any object that can return its elements one by one (e.g., lists, tuples, strings).\n",
        "\n",
        "Iterator: An object that represents a stream of data, obtained by calling iter(iterable). It uses __next__() to get values one at a time.\n",
        "\n",
        "6- Explain the concept of generators in Python and how they are defined.\n",
        "\n",
        "ans- 1-Special functions that yield values one at a time using yield.\n",
        "\n",
        "2-They produce an iterator but don’t store all values in memory.\n",
        "\n",
        "Example:\n",
        "\n",
        "def my_gen():\n",
        "    for i in range(3):\n",
        "        yield i\n",
        "\n",
        "\n",
        "7.What are the advantages of using generators over regular functions?\n",
        "\n",
        "ans-Memory efficient: Values generated on the fly.\n",
        "\n",
        "Lazy evaluation: Compute only when needed.\n",
        "\n",
        "Useful for large datasets or infinite sequences.\n",
        "\n",
        "8.What is a lambda function in Python and when is it typically used?\n",
        "\n",
        "ans- 1-Anonymous, single-line function using lambda.\n",
        "\n",
        "  2-Used when a short function is needed temporarily.\n",
        "\n",
        "Example:\n",
        "\n",
        "square = lambda x: x**2\n",
        "print(square(5))\n",
        "\n",
        "9-Explain the purpose and usage of the `map()` function in Python.\n",
        "\n",
        "ans-Applies a function to each element of an iterable and returns a map object.\n",
        "\n",
        "Example:\n",
        "nums = [1, 2, 3, 4]\n",
        "squares = list(map(lambda x: x**2, nums))\n",
        "print(squares)\n",
        "\n",
        "\n",
        "10-Difference between map(), reduce(), filter()?\n",
        "\n",
        "ans-map(func, iterable) → Applies function to each item.\n",
        "\n",
        "filter(func, iterable) → Keeps only items where function returns True.\n",
        "\n",
        "reduce(func, iterable) → Cumulatively applies function to reduce iterable into a single value (imported from functools).\n",
        "\n",
        "11.Using pen & Paper write the internal mechanism for sum operation using  reduce function on this given\n",
        "list:[47,11,42,13]"
      ],
      "metadata": {
        "id": "UBpL1T0Mnfet"
      }
    },
    {
      "cell_type": "markdown",
      "source": [
        "PRACTICAL QUESTIONS\n"
      ],
      "metadata": {
        "id": "GtjqZgZnza07"
      }
    },
    {
      "cell_type": "code",
      "execution_count": 1,
      "metadata": {
        "colab": {
          "base_uri": "https://localhost:8080/"
        },
        "id": "Px9K50kCirvG",
        "outputId": "495b293c-fec3-404a-f017-7eeb3463851b"
      },
      "outputs": [
        {
          "output_type": "stream",
          "name": "stdout",
          "text": [
            "12\n"
          ]
        }
      ],
      "source": [
        "#Write a Python function that takes a list of numbers as input and returns the sum of all even numbers in the list\n",
        "\n",
        "def sum_even_numbers(numbers):\n",
        "    return sum(num for num in numbers if num % 2 == 0)\n",
        "\n",
        "print(sum_even_numbers([1, 2, 3, 4, 5, 6]))"
      ]
    },
    {
      "cell_type": "code",
      "source": [
        " # Create a Python function that accepts a string and returns the reverse of that string?\n",
        "\n",
        " def reverse_string(s):\n",
        "    return s[::-1]\n",
        "\n",
        "print(reverse_string(\"Python\"))"
      ],
      "metadata": {
        "colab": {
          "base_uri": "https://localhost:8080/"
        },
        "id": "NuY_FZuNzgOf",
        "outputId": "b98d519f-06f2-4cee-c464-0387e0be5eed"
      },
      "execution_count": 2,
      "outputs": [
        {
          "output_type": "stream",
          "name": "stdout",
          "text": [
            "nohtyP\n"
          ]
        }
      ]
    },
    {
      "cell_type": "code",
      "source": [
        " # Implement a Python function that takes a list of integers and returns a new list containing the squares of each number?\n",
        "\n",
        " def square_list(numbers):\n",
        "    return [x**2 for x in numbers]\n",
        "\n",
        "print(square_list([1, 2, 3, 4]))"
      ],
      "metadata": {
        "colab": {
          "base_uri": "https://localhost:8080/"
        },
        "id": "ycm0je_50fUI",
        "outputId": "40c91742-5447-4ed0-8b7b-4588418d29ac"
      },
      "execution_count": 3,
      "outputs": [
        {
          "output_type": "stream",
          "name": "stdout",
          "text": [
            "[1, 4, 9, 16]\n"
          ]
        }
      ]
    },
    {
      "cell_type": "code",
      "source": [
        "# Write a Python function that checks if a given number is prime or not from 1 to 200.\n",
        "\n",
        "def is_prime(n):\n",
        "    if n < 2:\n",
        "        return False\n",
        "    for i in range(2, int(n**0.5) + 1):\n",
        "        if n % i == 0:\n",
        "            return False\n",
        "    return True\n",
        "\n",
        "primes = [n for n in range(1, 201) if is_prime(n)]\n",
        "print(primes)"
      ],
      "metadata": {
        "colab": {
          "base_uri": "https://localhost:8080/"
        },
        "id": "trmOHbKE0zpj",
        "outputId": "399c0d0d-60cd-46e2-fbd8-6ab0a6830464"
      },
      "execution_count": 4,
      "outputs": [
        {
          "output_type": "stream",
          "name": "stdout",
          "text": [
            "[2, 3, 5, 7, 11, 13, 17, 19, 23, 29, 31, 37, 41, 43, 47, 53, 59, 61, 67, 71, 73, 79, 83, 89, 97, 101, 103, 107, 109, 113, 127, 131, 137, 139, 149, 151, 157, 163, 167, 173, 179, 181, 191, 193, 197, 199]\n"
          ]
        }
      ]
    },
    {
      "cell_type": "code",
      "source": [
        "# Create an iterator class in Python that generates the Fibonacci sequence up to a specified number of terms?\n",
        "\n",
        "class Fibonacci:\n",
        "    def __init__(self, n):\n",
        "        self.n = n\n",
        "        self.a, self.b = 0, 1\n",
        "        self.count = 0\n",
        "\n",
        "    def __iter__(self):\n",
        "        return self\n",
        "\n",
        "    def __next__(self):\n",
        "        if self.count < self.n:\n",
        "            value = self.a\n",
        "            self.a, self.b = self.b, self.a + self.b\n",
        "            self.count += 1\n",
        "            return value\n",
        "        else:\n",
        "            raise StopIteration\n",
        "\n",
        "fib = Fibonacci(10)\n",
        "for num in fib:\n",
        "    print(num, end=\" \")"
      ],
      "metadata": {
        "colab": {
          "base_uri": "https://localhost:8080/"
        },
        "id": "qQhJse-K0znK",
        "outputId": "8beeef7f-11ad-44b5-9be5-e9ee882cacca"
      },
      "execution_count": 5,
      "outputs": [
        {
          "output_type": "stream",
          "name": "stdout",
          "text": [
            "0 1 1 2 3 5 8 13 21 34 "
          ]
        }
      ]
    },
    {
      "cell_type": "code",
      "source": [
        "# Write a generator function in Python that yields the powers of 2 up to a given exponent.\n",
        "\n",
        "def powers_of_two(n):\n",
        "    for i in range(n + 1):\n",
        "        yield 2 ** i\n",
        "\n",
        "for val in powers_of_two(5):\n",
        "    print(val, end=\" \")"
      ],
      "metadata": {
        "colab": {
          "base_uri": "https://localhost:8080/"
        },
        "id": "AFkzuyOd0zgt",
        "outputId": "df408b50-1a49-4221-a782-34b176e191d2"
      },
      "execution_count": 6,
      "outputs": [
        {
          "output_type": "stream",
          "name": "stdout",
          "text": [
            "1 2 4 8 16 32 "
          ]
        }
      ]
    },
    {
      "cell_type": "code",
      "source": [
        "#Use a lambda function in Python to sort a list of tuples based on the second element of each tuple.\n",
        "\n",
        "data = [(1, 5), (2, 3), (4, 1), (3, 2)]\n",
        "sorted_data = sorted(data, key=lambda x: x[1])\n",
        "print(sorted_data)"
      ],
      "metadata": {
        "colab": {
          "base_uri": "https://localhost:8080/"
        },
        "id": "2_Asnpp90zZO",
        "outputId": "0e3794c2-f66c-4140-fcd8-4c926d96ceb0"
      },
      "execution_count": 19,
      "outputs": [
        {
          "output_type": "stream",
          "name": "stdout",
          "text": [
            "[(4, 1), (3, 2), (2, 3), (1, 5)]\n"
          ]
        }
      ]
    },
    {
      "cell_type": "code",
      "source": [
        "# Write a Python program that uses `map()` to convert a list of temperatures from Celsius to Fahrenheit\n",
        "\n",
        "celsius = [0, 20, 37, 100]\n",
        "fahrenheit = list(map(lambda c: (c * 9/5) + 32, celsius))\n",
        "print(fahrenheit)"
      ],
      "metadata": {
        "colab": {
          "base_uri": "https://localhost:8080/"
        },
        "id": "AMo0C3qR0zWp",
        "outputId": "92fee9eb-ef67-48b5-87a0-c5223325a9e7"
      },
      "execution_count": 21,
      "outputs": [
        {
          "output_type": "stream",
          "name": "stdout",
          "text": [
            "[32.0, 68.0, 98.6, 212.0]\n"
          ]
        }
      ]
    },
    {
      "cell_type": "code",
      "source": [
        "#Create a Python program that uses `filter()` to remove all the vowels from a given string.\n",
        "\n",
        "def remove_vowels(s):\n",
        "    vowels = \"aeiouAEIOU\"\n",
        "    return \"\".join(filter(lambda ch: ch not in vowels, s))\n",
        "\n",
        "print(remove_vowels(\"Hello World\"))"
      ],
      "metadata": {
        "colab": {
          "base_uri": "https://localhost:8080/"
        },
        "id": "yIDV032o0zUF",
        "outputId": "e82d1a5e-f249-467c-8bed-e39aa1e89086"
      },
      "execution_count": 20,
      "outputs": [
        {
          "output_type": "stream",
          "name": "stdout",
          "text": [
            "Hll Wrld\n"
          ]
        }
      ]
    },
    {
      "cell_type": "code",
      "source": [],
      "metadata": {
        "id": "Xp41kHUo0zRb"
      },
      "execution_count": null,
      "outputs": []
    },
    {
      "cell_type": "code",
      "source": [],
      "metadata": {
        "id": "kU1ZFeWW0y-W"
      },
      "execution_count": null,
      "outputs": []
    }
  ]
}